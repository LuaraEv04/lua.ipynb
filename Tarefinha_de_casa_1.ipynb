{
  "nbformat": 4,
  "nbformat_minor": 0,
  "metadata": {
    "colab": {
      "provenance": []
    },
    "kernelspec": {
      "name": "python3",
      "display_name": "Python 3"
    },
    "language_info": {
      "name": "python"
    }
  },
  "cells": [
    {
      "cell_type": "markdown",
      "source": [
        "1) Elabore um código em que existe as variáveis : aluno, nota1, nota2,nota3, media. Neste código você deve escolher uma string para a variável aluno, float para cada nota. Pesquise o cálculo da média aritmética e aplique o resuldado do cálculo na variável media. Por fim, usando o comando print, mostre o nome do aluno ao lado de sua media. Use a função print para mostrar o tipo da variável aluno e tipo da variável media."
      ],
      "metadata": {
        "id": "hQZSWBJlsdAn"
      }
    },
    {
      "cell_type": "code",
      "source": [
        "#Resposta\n",
        "aluno =\n",
        "nota1 = \n",
        "nota2 =\n",
        "nota3 = \n",
        "media = \n",
        "#exibição da variável media\n",
        "print() \n",
        "#exibição do tipo da variavel aluno\n",
        "print()\n",
        "#exibição do tipo da variavel media\n",
        "print()"
      ],
      "metadata": {
        "id": "0oJOVsXEsqvW"
      },
      "execution_count": null,
      "outputs": []
    },
    {
      "cell_type": "markdown",
      "source": [
        "2) ELabore um código que realiza a concatenção de strings para formar um nome. Ao fim, exiba, através do comando print, o nome concatenado (nome_completo). "
      ],
      "metadata": {
        "id": "MQNGFrLrt59F"
      }
    },
    {
      "cell_type": "code",
      "source": [
        "#RESPOSTA\n",
        "nome = \n",
        "sobrenome = \n",
        "nome_completo = \n",
        "#exibição do nome concatenado\n",
        "print()\n"
      ],
      "metadata": {
        "id": "agNgURZovQAO"
      },
      "execution_count": null,
      "outputs": []
    },
    {
      "cell_type": "markdown",
      "source": [
        "3) Elabore um código em que seja criada uma lista de alimentos em forma de string. Nesta lista você deve escolher  10 alimentos.\n",
        "* a) realize o print do último alimento usando index negativo\n",
        "* b) realize o print do quarto elemento da lista\n",
        "* c) realize o print dos 5 primeiros elementos da lista\n",
        "* d) realize o print do 3 ultimos elementos da lista\n",
        "* e) realize o print do terceiro até o sétimo elemento da lista\n"
      ],
      "metadata": {
        "id": "Jvb8nt2-vkyk"
      }
    },
    {
      "cell_type": "code",
      "source": [
        "#Resposta\n",
        "lista_de_alimentos = \n",
        "#item a\n",
        "print()\n",
        "#item b\n",
        "print()\n",
        "#item c\n",
        "print()\n",
        "#item d\n",
        "print()\n",
        "#item e\n",
        "print()"
      ],
      "metadata": {
        "id": "Ej916hE4x3vr"
      },
      "execution_count": null,
      "outputs": []
    },
    {
      "cell_type": "markdown",
      "source": [
        "4) Adapte a lista de alimentos criada na questão 3 para incluir o preço da cada alimento. Após cada string você deve incluir um valor numérico que representa o preço do alimento\n",
        "* a) Crie uma variavel `gasto_total` que recebe a soma de todos os preços, acessando a lista pelos indexes.\n",
        "* b) mostre via print o valor da variável `gasto_total`\n",
        "* c) crie uma nova lista chamada `alimentos_mais_caros` que contem os 3 alimentos mais caros. Nessa lista deve conter os alimentos com valor ao lado. a inclusão dos elementos na lista deve ser via index. Ex: `lista_nova = [lista_antiga[2],lista_antiga[3]...]`\n",
        "* d) mostre via print a lista `alimentos_mais_caros`"
      ],
      "metadata": {
        "id": "VBEp3lBnyQyt"
      }
    },
    {
      "cell_type": "code",
      "source": [
        "#resposta\n",
        "lista_de_alimentos_com_preco = \n",
        "#item a\n",
        "gasto_total = \n",
        "#item b\n",
        "--\n",
        "#item c\n",
        "alimentos_mais_caros = \n",
        "#item d\n",
        "--\n",
        "\n"
      ],
      "metadata": {
        "id": "UA1X8iq71Die"
      },
      "execution_count": null,
      "outputs": []
    },
    {
      "cell_type": "markdown",
      "source": [
        "5) Adpate a lista de alimentos criada na questão 4. Agora a estrutura deve ser uma lista de listas. cada elemento com preço deve ser um lista, ou seja, a lista de alimentos deve conter 5 listas, em que cada lista possui um alimento e seu preço.\n",
        "* a) Crie uma variável `lista3` para ammazenar a terceiira lista contida na lista de alimentos. \n",
        "* b) Exiba a variável `lista3` \n",
        "* c) Crie uma variável `lista2a4` para armazenar da segunda até a quarta lista contida na lsita de alimentos.\n",
        "* d) Acessando os indexes da lista de alimentos no modo exemplo `lista[id1][id2]` realize os prints:\n",
        "** d1) do preço do terceiro alimento da lista\n",
        "** d2) do alimento da quarta lista\n",
        "** d3) do preço do quinto elemento da lista\n",
        "** d4) do alimento da primeira lista."
      ],
      "metadata": {
        "id": "nqp01e8g16FG"
      }
    },
    {
      "cell_type": "code",
      "source": [
        "#resposta\n",
        "lista_de_alimentos_adaptada = \n",
        "#item a\n",
        "lista3 = \n",
        "#item b\n",
        "---\n",
        "#item c\n",
        "lista2a4 = \n",
        "#item d1\n",
        "--\n",
        "#item d2\n",
        "--\n",
        "#item d3\n",
        "--\n",
        "#item d4\n",
        "-- "
      ],
      "metadata": {
        "id": "XTOqNZ1a4s-H"
      },
      "execution_count": null,
      "outputs": []
    }
  ]
}