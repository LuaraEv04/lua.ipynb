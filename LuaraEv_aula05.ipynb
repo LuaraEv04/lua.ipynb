{
  "nbformat": 4,
  "nbformat_minor": 0,
  "metadata": {
    "colab": {
      "provenance": [],
      "authorship_tag": "ABX9TyM3EvvjEY6gsBgDTCAIMnJE",
      "include_colab_link": true
    },
    "kernelspec": {
      "name": "python3",
      "display_name": "Python 3"
    },
    "language_info": {
      "name": "python"
    }
  },
  "cells": [
    {
      "cell_type": "markdown",
      "metadata": {
        "id": "view-in-github",
        "colab_type": "text"
      },
      "source": [
        "<a href=\"https://colab.research.google.com/github/LuaraEv04/lua.ipynb/blob/main/LuaraEv_aula05.ipynb\" target=\"_parent\"><img src=\"https://colab.research.google.com/assets/colab-badge.svg\" alt=\"Open In Colab\"/></a>"
      ]
    },
    {
      "cell_type": "code",
      "execution_count": null,
      "metadata": {
        "colab": {
          "base_uri": "https://localhost:8080/"
        },
        "id": "yPhnFGbBEobF",
        "outputId": "2c28723f-4f58-4820-8487-6de840f0f9d2"
      },
      "outputs": [
        {
          "output_type": "execute_result",
          "data": {
            "text/plain": [
              "[1.73, 1.68, 1.71, 1.89]"
            ]
          },
          "metadata": {},
          "execution_count": 8
        }
      ],
      "source": [
        "# Funções\n",
        "fam = [1.73, 1.68, 1.71, 1.89]\n",
        "fam "
      ]
    },
    {
      "cell_type": "code",
      "source": [
        "max(fam)"
      ],
      "metadata": {
        "colab": {
          "base_uri": "https://localhost:8080/"
        },
        "id": "twbTLhQKExKw",
        "outputId": "82e09fc2-c22c-4ae5-ee75-6bac0377434a"
      },
      "execution_count": null,
      "outputs": [
        {
          "output_type": "execute_result",
          "data": {
            "text/plain": [
              "1.89"
            ]
          },
          "metadata": {},
          "execution_count": 2
        }
      ]
    },
    {
      "cell_type": "code",
      "source": [
        "# Use round (**,1) para arredondar para o número mias próximo\n",
        "round(1.68,1)"
      ],
      "metadata": {
        "colab": {
          "base_uri": "https://localhost:8080/"
        },
        "id": "GqQnUf7qE5sw",
        "outputId": "e0187611-c07e-40e8-bd08-80f8ee5b174b"
      },
      "execution_count": null,
      "outputs": [
        {
          "output_type": "execute_result",
          "data": {
            "text/plain": [
              "1.7"
            ]
          },
          "metadata": {},
          "execution_count": 6
        }
      ]
    },
    {
      "cell_type": "code",
      "source": [
        "# Use round sem , para arredondar para o número inteiro acima\n",
        "round(1.68)"
      ],
      "metadata": {
        "colab": {
          "base_uri": "https://localhost:8080/"
        },
        "id": "ESge1uNWFMb3",
        "outputId": "7dcc22c9-2888-4ff3-dc9d-c296dca8bd66"
      },
      "execution_count": null,
      "outputs": [
        {
          "output_type": "execute_result",
          "data": {
            "text/plain": [
              "2"
            ]
          },
          "metadata": {},
          "execution_count": 4
        }
      ]
    },
    {
      "cell_type": "code",
      "source": [
        "help(max)"
      ],
      "metadata": {
        "colab": {
          "base_uri": "https://localhost:8080/"
        },
        "id": "VgJR49XbFalQ",
        "outputId": "a13984ef-f9af-4946-88ea-66ca6575668b"
      },
      "execution_count": null,
      "outputs": [
        {
          "output_type": "stream",
          "name": "stdout",
          "text": [
            "Help on built-in function max in module builtins:\n",
            "\n",
            "max(...)\n",
            "    max(iterable, *[, default=obj, key=func]) -> value\n",
            "    max(arg1, arg2, *args, *[, key=func]) -> value\n",
            "    \n",
            "    With a single iterable argument, return its biggest item. The\n",
            "    default keyword-only argument specifies an object to return if\n",
            "    the provided iterable is empty.\n",
            "    With two or more arguments, return the largest argument.\n",
            "\n"
          ]
        }
      ]
    },
    {
      "cell_type": "code",
      "source": [
        "help(round)"
      ],
      "metadata": {
        "colab": {
          "base_uri": "https://localhost:8080/"
        },
        "id": "TO04wWNdFjG4",
        "outputId": "ebf15664-ba90-4a56-e55b-d3aa32ef9672"
      },
      "execution_count": null,
      "outputs": [
        {
          "output_type": "stream",
          "name": "stdout",
          "text": [
            "Help on built-in function round in module builtins:\n",
            "\n",
            "round(number, ndigits=None)\n",
            "    Round a number to a given precision in decimal digits.\n",
            "    \n",
            "    The return value is an integer if ndigits is omitted or None.  Otherwise\n",
            "    the return value has the same type as the number.  ndigits may be negative.\n",
            "\n"
          ]
        }
      ]
    },
    {
      "cell_type": "code",
      "source": [
        "#Creat variables var1 and var2\n",
        "var1 = [1, 2, 3, 4]\n",
        "var2 = True\n",
        "#Print out type of var1\n",
        "print(type(var1))\n",
        "#Print out length of var1\n",
        "print(len(var1))\n",
        "#Convert var2 to an integer: out2\n",
        "out2= int(var2)\n",
        "print(out2)"
      ],
      "metadata": {
        "colab": {
          "base_uri": "https://localhost:8080/"
        },
        "id": "CLqT4lT5FqhA",
        "outputId": "4e5ad3d8-1236-4902-bf42-accb0cd4cf57"
      },
      "execution_count": null,
      "outputs": [
        {
          "output_type": "stream",
          "name": "stdout",
          "text": [
            "<class 'list'>\n",
            "4\n",
            "1\n"
          ]
        }
      ]
    },
    {
      "cell_type": "code",
      "source": [
        "# Creat list first and second\n",
        "first = [11.25, 18.0, 20.0]\n",
        "second = [10.75, 9.50]\n",
        "# Paste together first and second : full\n",
        "full = first + second \n",
        "print(full)\n",
        "# Sort full in descending order: full_sorted\n",
        "print(sorted(full)) # sorted é do menor para o maior\n",
        "print(sorted(full,reverse=True)) # sorted + reverse é do maior para o menor"
      ],
      "metadata": {
        "colab": {
          "base_uri": "https://localhost:8080/"
        },
        "id": "XMWRpllmHHFY",
        "outputId": "c2134a77-33a0-4606-8c44-f7ef8fcf3385"
      },
      "execution_count": null,
      "outputs": [
        {
          "output_type": "stream",
          "name": "stdout",
          "text": [
            "[11.25, 18.0, 20.0, 10.75, 9.5]\n",
            "[9.5, 10.75, 11.25, 18.0, 20.0]\n",
            "[20.0, 18.0, 11.25, 10.75, 9.5]\n"
          ]
        }
      ]
    },
    {
      "cell_type": "code",
      "source": [
        "# Use '.index' para mostrar a posição na lista\n",
        "# Use '.count' para contar quantas vzs o número aparece na lista\n",
        "fam = ['Lana', 1.73, 'Thyara', 1.63, 'Tia', 1.63, 'Avô', 1.86]\n",
        "print(fam.index('Tia'))\n",
        "print(fam.count(1.63))"
      ],
      "metadata": {
        "colab": {
          "base_uri": "https://localhost:8080/"
        },
        "id": "QVnQNUDsK0Dw",
        "outputId": "ad5ff636-ed9f-4ccb-987c-cdae76a5cc1e"
      },
      "execution_count": null,
      "outputs": [
        {
          "output_type": "stream",
          "name": "stdout",
          "text": [
            "4\n",
            "2\n"
          ]
        }
      ]
    },
    {
      "cell_type": "code",
      "source": [
        "fam = ['Lana', 1.73, 'Thyara', 1.63, 'Tia', 1.63, 'Avô', 1.86]\n",
        "print(fam)\n",
        "fam.append('Me')\n",
        "print(fam)\n",
        "fam.append(1.70)\n",
        "print(fam)"
      ],
      "metadata": {
        "colab": {
          "base_uri": "https://localhost:8080/"
        },
        "id": "KV5HZPYVNL0v",
        "outputId": "5107b07a-41bc-43bb-afcd-df5034d31ba7"
      },
      "execution_count": null,
      "outputs": [
        {
          "output_type": "stream",
          "name": "stdout",
          "text": [
            "['Lana', 1.73, 'Thyara', 1.63, 'Tia', 1.63, 'Avô', 1.86]\n",
            "['Lana', 1.73, 'Thyara', 1.63, 'Tia', 1.63, 'Avô', 1.86, 'Me']\n",
            "['Lana', 1.73, 'Thyara', 1.63, 'Tia', 1.63, 'Avô', 1.86, 'Me', 1.7]\n"
          ]
        }
      ]
    },
    {
      "cell_type": "code",
      "source": [
        "sister = 'thyara'\n",
        "print(sister)\n",
        "print(sister.capitalize())\n",
        "print(sister.replace('hy', 'i'))"
      ],
      "metadata": {
        "colab": {
          "base_uri": "https://localhost:8080/"
        },
        "id": "9MWoRdI0N4oX",
        "outputId": "17c1fd7c-87ba-4002-e89c-5f3c20f68e04"
      },
      "execution_count": null,
      "outputs": [
        {
          "output_type": "stream",
          "name": "stdout",
          "text": [
            "thyara\n",
            "Thyara\n",
            "tiara\n"
          ]
        }
      ]
    },
    {
      "cell_type": "code",
      "source": [
        "# String to experiment with: place\n",
        "place = 'poolhouse'\n",
        "# Use upper() on place: place_up\n",
        "place_up = place.upper()\n",
        "# Print out place and place_up\n",
        "print(place)\n",
        "print(place_up)\n",
        "# Print out the number of o'sin place \n",
        "place.count('o')"
      ],
      "metadata": {
        "colab": {
          "base_uri": "https://localhost:8080/"
        },
        "id": "qOr6jLHhO5RP",
        "outputId": "5c6c0ecf-91ca-4d44-8527-00fd8c9aaf68"
      },
      "execution_count": null,
      "outputs": [
        {
          "output_type": "stream",
          "name": "stdout",
          "text": [
            "poolhouse\n",
            "POOLHOUSE\n"
          ]
        },
        {
          "output_type": "execute_result",
          "data": {
            "text/plain": [
              "3"
            ]
          },
          "metadata": {},
          "execution_count": 53
        }
      ]
    }
  ]
}