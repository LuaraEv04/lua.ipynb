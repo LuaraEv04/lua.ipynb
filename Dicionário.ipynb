{
  "nbformat": 4,
  "nbformat_minor": 0,
  "metadata": {
    "colab": {
      "provenance": [],
      "authorship_tag": "ABX9TyNZcfFvytlPqnC1QlHKaaRZ",
      "include_colab_link": true
    },
    "kernelspec": {
      "name": "python3",
      "display_name": "Python 3"
    },
    "language_info": {
      "name": "python"
    }
  },
  "cells": [
    {
      "cell_type": "markdown",
      "metadata": {
        "id": "view-in-github",
        "colab_type": "text"
      },
      "source": [
        "<a href=\"https://colab.research.google.com/github/LuaraEv04/lua.ipynb/blob/main/Dicion%C3%A1rio.ipynb\" target=\"_parent\"><img src=\"https://colab.research.google.com/assets/colab-badge.svg\" alt=\"Open In Colab\"/></a>"
      ]
    },
    {
      "cell_type": "code",
      "execution_count": null,
      "metadata": {
        "colab": {
          "base_uri": "https://localhost:8080/"
        },
        "id": "Axv_e8l_02Hi",
        "outputId": "2e02c263-6cd1-4c47-f49d-7b25a340337a"
      },
      "outputs": [
        {
          "output_type": "execute_result",
          "data": {
            "text/plain": [
              "2.77"
            ]
          },
          "metadata": {},
          "execution_count": 1
        }
      ],
      "source": [
        "pop = [30.55, 2.77,39.21]\n",
        "countries = ['afghanistan', 'albania', 'algeria']\n",
        "\n",
        "world = {'afghanistan':30.55, 'albania':2.77, 'algeria':39.21}\n",
        "world['albania']"
      ]
    },
    {
      "cell_type": "code",
      "source": [
        "# Definition of countries and capital \n",
        "countries = ['spain', 'france', 'germany', 'norway']\n",
        "capitals = ['madrid', 'paris', 'berlin', 'oslo']\n",
        "\n",
        "# From string in countries and capitals, creat dictionary europe\n",
        "europe = {'spain':'madrid', 'france':'paris', 'germany':'berlin', 'norway':'oslo'}\n",
        "\n",
        "# Print europe\n",
        "print(europe)"
      ],
      "metadata": {
        "colab": {
          "base_uri": "https://localhost:8080/"
        },
        "id": "BR47XDRU2IX2",
        "outputId": "b94665a4-37ba-4bf0-b5c6-50612d551cd3"
      },
      "execution_count": null,
      "outputs": [
        {
          "output_type": "stream",
          "name": "stdout",
          "text": [
            "{'spain': 'madrid', 'france': 'paris', 'germany': 'berlin', 'norway': 'oslo'}\n"
          ]
        }
      ]
    },
    {
      "cell_type": "code",
      "source": [
        "from typing import KeysView\n",
        "# Definition of dictionary\n",
        "europe = {'spain':'madrid', 'france':'paris', 'germany':'berlin', 'norway':'oslo'}\n",
        "\n",
        "# Print out the keys in europe \n",
        "print(europe)\n",
        "print(europe.keys())\n",
        "europe['norway']"
      ],
      "metadata": {
        "colab": {
          "base_uri": "https://localhost:8080/",
          "height": 70
        },
        "id": "7By8eqdO3gRn",
        "outputId": "d713e802-e015-4c32-dfe1-29e8908c93f5"
      },
      "execution_count": null,
      "outputs": [
        {
          "output_type": "stream",
          "name": "stdout",
          "text": [
            "{'spain': 'madrid', 'france': 'paris', 'germany': 'berlin', 'norway': 'oslo'}\n",
            "dict_keys(['spain', 'france', 'germany', 'norway'])\n"
          ]
        },
        {
          "output_type": "execute_result",
          "data": {
            "text/plain": [
              "'oslo'"
            ],
            "application/vnd.google.colaboratory.intrinsic+json": {
              "type": "string"
            }
          },
          "metadata": {},
          "execution_count": 12
        }
      ]
    },
    {
      "cell_type": "code",
      "source": [
        "world = {'afghanistan':30.55, 'albania':2.77, 'algeria':39.21, 'albania':2.81}\n",
        "print(world)\n",
        "\n",
        "# Verificar conteúdo\n",
        "world['sealand'] = 0.000027\n",
        "print(world)\n",
        "\n",
        "print('sealand' in world)\n",
        "print('brazil' in world)\n",
        "# Exclusão de chave\n",
        "del(world['sealand'])\n",
        "print(world)"
      ],
      "metadata": {
        "colab": {
          "base_uri": "https://localhost:8080/"
        },
        "id": "IiXwCZZ77XDI",
        "outputId": "f11095f1-ad4f-414f-8471-27be6df8e678"
      },
      "execution_count": null,
      "outputs": [
        {
          "output_type": "stream",
          "name": "stdout",
          "text": [
            "{'afghanistan': 30.55, 'albania': 2.81, 'algeria': 39.21}\n",
            "{'afghanistan': 30.55, 'albania': 2.81, 'algeria': 39.21, 'sealand': 2.7e-05}\n",
            "True\n",
            "False\n",
            "{'afghanistan': 30.55, 'albania': 2.81, 'algeria': 39.21}\n"
          ]
        }
      ]
    },
    {
      "cell_type": "code",
      "source": [
        "# Definition of dictionary\n",
        "europe = {'spain':'madrid', 'france':'paris', 'germany':'berlin', 'norway':'oslo'}\n",
        "\n",
        "# Add Italy to europe\n",
        "europe['italy'] = 'rome'\n",
        "print('italy' in europe)\n",
        "print(europe)\n",
        "\n",
        "# Add Poland to europe \n",
        "europe['poland'] = 'warsaw'\n",
        "print('poland' in europe)\n",
        "print(europe)"
      ],
      "metadata": {
        "colab": {
          "base_uri": "https://localhost:8080/"
        },
        "id": "Ezq1kH_Z8LVQ",
        "outputId": "5b237300-019e-4d40-a490-52c72008bf6d"
      },
      "execution_count": null,
      "outputs": [
        {
          "output_type": "stream",
          "name": "stdout",
          "text": [
            "True\n",
            "{'spain': 'madrid', 'france': 'paris', 'germany': 'berlin', 'norway': 'oslo', 'italy': 'rome'}\n",
            "True\n",
            "{'spain': 'madrid', 'france': 'paris', 'germany': 'berlin', 'norway': 'oslo', 'italy': 'rome', 'poland': 'warsaw'}\n"
          ]
        }
      ]
    },
    {
      "cell_type": "code",
      "source": [
        "# Definition of dictionary\n",
        "europe = {'spain': 'madrid', 'france': 'paris', 'germany': 'boon', 'norway': 'oslo', 'italy': 'rome', 'poland': 'warsaw', 'australia': 'viena'}\n",
        "print(europe)\n",
        "# Update capital of Germany\n",
        "europe['germany'] = 'berlim'\n",
        "print(europe)\n",
        "\n",
        "# Remove Australia\n",
        "del(europe['australia'])\n",
        "print(europe)"
      ],
      "metadata": {
        "colab": {
          "base_uri": "https://localhost:8080/"
        },
        "id": "yK1hIPjc95XX",
        "outputId": "5da3a5a5-2d9d-4a3e-ee01-4c094582bfdf"
      },
      "execution_count": null,
      "outputs": [
        {
          "output_type": "stream",
          "name": "stdout",
          "text": [
            "{'spain': 'madrid', 'france': 'paris', 'germany': 'boon', 'norway': 'oslo', 'italy': 'rome', 'poland': 'warsaw', 'australia': 'viena'}\n",
            "{'spain': 'madrid', 'france': 'paris', 'germany': 'berlim', 'norway': 'oslo', 'italy': 'rome', 'poland': 'warsaw', 'australia': 'viena'}\n",
            "{'spain': 'madrid', 'france': 'paris', 'germany': 'berlim', 'norway': 'oslo', 'italy': 'rome', 'poland': 'warsaw'}\n"
          ]
        }
      ]
    },
    {
      "cell_type": "code",
      "source": [
        "# Dictionary of dictionaries\n",
        "europe = {'spain' : {'capital' : 'madrid', 'population' : 46.77},\n",
        "          'france' : {'capital' : 'paris', 'population' : 66.03},\n",
        "          'germany' : {'capital' : 'berlim', 'population' : 80.62},\n",
        "          'norway' : {'capital' : 'oslo', 'population' : 5.084}}\n",
        "# Print out the capital of France\n",
        "europe['france']['capital']\n",
        "\n",
        "# Creat sub-dictionary data \n",
        "data = {'capital' : 'rome', 'population' : 59.83}\n",
        "\n",
        "# Add data to europe under key 'Italy'\n",
        "europe['Italy'] = data\n",
        "print(europe)"
      ],
      "metadata": {
        "colab": {
          "base_uri": "https://localhost:8080/"
        },
        "id": "w6Q82AiTAIZo",
        "outputId": "eb1bce37-a3d4-4caa-c0e6-5ef0be857aec"
      },
      "execution_count": null,
      "outputs": [
        {
          "output_type": "stream",
          "name": "stdout",
          "text": [
            "{'spain': {'capital': 'madrid', 'population': 46.77}, 'france': {'capital': 'paris', 'population': 66.03}, 'germany': {'capital': 'berlim', 'population': 80.62}, 'norway': {'capital': 'oslo', 'population': 5.084}, 'Italy': {'capital': 'rome', 'population': 59.83}}\n"
          ]
        }
      ]
    }
  ]
}