{
 "cells": [
  {
   "cell_type": "code",
   "execution_count": 10,
   "metadata": {},
   "outputs": [
    {
     "name": "stdout",
     "output_type": "stream",
     "text": [
      "2\n",
      "1\n"
     ]
    }
   ],
   "source": [
    "#Creat list areas\n",
    "areas = [11.25, 18.0, 20.0, 10.75, 9.50]\n",
    "#Print out the index of the element 20.0\n",
    "print(areas.index(20.0))\n",
    "#Print out how often 9.50 appears in areas \n",
    "print(areas.count(9.5))"
   ]
  },
  {
   "cell_type": "code",
   "execution_count": 26,
   "metadata": {},
   "outputs": [
    {
     "name": "stdout",
     "output_type": "stream",
     "text": [
      "[11.25, 18.0, 20.0, 10.75, 9.5]\n",
      "[11.25, 18.0, 20.0, 10.75, 9.5, 24.5]\n",
      "[11.25, 18.0, 20.0, 10.75, 9.5, 24.5, 15.25]\n",
      "[9.5, 10.75, 11.25, 15.25, 18.0, 20.0, 24.5]\n",
      "[24.5, 20.0, 18.0, 15.25, 11.25, 10.75, 9.5]\n"
     ]
    }
   ],
   "source": [
    "#Creat list areas\n",
    "areas = [11.25, 18.0, 20.0, 10.75, 9.50]\n",
    "print(areas)\n",
    "#Use append twice to add poolhouse and garage size\n",
    "areas.append(24.5)\n",
    "print(areas)\n",
    "areas.append(15.25)\n",
    "#Print out areas \n",
    "print(areas)\n",
    "#Reverse the orders of the elements in areas \n",
    "print(sorted(areas))\n",
    "print(sorted(areas,reverse=True))"
   ]
  }
 ],
 "metadata": {
  "kernelspec": {
   "display_name": "Python 3",
   "language": "python",
   "name": "python3"
  },
  "language_info": {
   "codemirror_mode": {
    "name": "ipython",
    "version": 3
   },
   "file_extension": ".py",
   "mimetype": "text/x-python",
   "name": "python",
   "nbconvert_exporter": "python",
   "pygments_lexer": "ipython3",
   "version": "3.11.2"
  },
  "orig_nbformat": 4
 },
 "nbformat": 4,
 "nbformat_minor": 2
}
