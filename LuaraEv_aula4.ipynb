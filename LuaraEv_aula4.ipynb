{
  "nbformat": 4,
  "nbformat_minor": 0,
  "metadata": {
    "colab": {
      "provenance": [],
      "authorship_tag": "ABX9TyNY2TF24aVhMUY83rp4Vn/4",
      "include_colab_link": true
    },
    "kernelspec": {
      "name": "python3",
      "display_name": "Python 3"
    },
    "language_info": {
      "name": "python"
    }
  },
  "cells": [
    {
      "cell_type": "markdown",
      "metadata": {
        "id": "view-in-github",
        "colab_type": "text"
      },
      "source": [
        "<a href=\"https://colab.research.google.com/github/LuaraEv04/lua.ipynb/blob/main/LuaraEv_aula4.ipynb\" target=\"_parent\"><img src=\"https://colab.research.google.com/assets/colab-badge.svg\" alt=\"Open In Colab\"/></a>"
      ]
    },
    {
      "cell_type": "code",
      "source": [
        "areas = ['hallway', 14.25, 'kitchen', 18.0, 'living room', 20.0, 'bedroom', 10.75, 'bath room', 9.5]\n",
        "#sun of kitchen and bedroom areas: eat_sleep_areas\n",
        "eat_sleep_areas = areas[3] + areas[5]\n",
        "#print the variable eat_sleep_areas\n",
        "print(eat_sleep_areas)"
      ],
      "metadata": {
        "colab": {
          "base_uri": "https://localhost:8080/"
        },
        "id": "pMBKjM8Jrlw6",
        "outputId": "0ef905fe-497c-4745-b130-886afff612d7"
      },
      "execution_count": 1,
      "outputs": [
        {
          "output_type": "stream",
          "name": "stdout",
          "text": [
            "38.0\n"
          ]
        }
      ]
    },
    {
      "cell_type": "code",
      "source": [
        "areas = ['hallway', 14.25, 'kitchen', 18.0, 'living room', 20.0, 'bedroom', 10.75, 'bath room', 9.5]\n",
        "#use slicing to creat downstairs\n",
        "downstairs = areas[ : 6]\n",
        "#use slicing to creat upstairs\n",
        "upstairs = areas [5 : ]\n",
        "print(downstairs)\n",
        "print(upstairs)"
      ],
      "metadata": {
        "colab": {
          "base_uri": "https://localhost:8080/"
        },
        "id": "I-YVn_qarmq4",
        "outputId": "28a65d1c-cba8-4362-ed2a-77645cb2f7ac"
      },
      "execution_count": 2,
      "outputs": [
        {
          "output_type": "stream",
          "name": "stdout",
          "text": [
            "['hallway', 14.25, 'kitchen', 18.0, 'living room', 20.0]\n",
            "[20.0, 'bedroom', 10.75, 'bath room', 9.5]\n"
          ]
        }
      ]
    },
    {
      "cell_type": "code",
      "source": [
        "x = [['a', 'b', 'c'],\n",
        "        ['d', 'e', 'f'],\n",
        "        ['g', 'h', 'i']]\n",
        "x[2][0]\n",
        "x[2][:2]"
      ],
      "metadata": {
        "colab": {
          "base_uri": "https://localhost:8080/"
        },
        "id": "qLz_H0HErqP-",
        "outputId": "aa01d7a1-fb98-4f45-e1eb-e9cf373b0559"
      },
      "execution_count": 3,
      "outputs": [
        {
          "output_type": "execute_result",
          "data": {
            "text/plain": [
              "['g', 'h']"
            ]
          },
          "metadata": {},
          "execution_count": 3
        }
      ]
    },
    {
      "cell_type": "code",
      "source": [
        "hall = 14.25\n",
        "kit = 18.0\n",
        "liv = 20.0\n",
        "bed = 10.75\n",
        "bath = 9.50\n",
        "house = [['hallway', hall], ['kitchen', kit], ['living room', liv], ['bedroom', bed], ['bath room', bath]]\n",
        "house [-1][1]"
      ],
      "metadata": {
        "colab": {
          "base_uri": "https://localhost:8080/"
        },
        "id": "SG0rBtPdrtze",
        "outputId": "d9e124bd-3b80-4569-b544-71ca24dc4dcf"
      },
      "execution_count": 4,
      "outputs": [
        {
          "output_type": "execute_result",
          "data": {
            "text/plain": [
              "9.5"
            ]
          },
          "metadata": {},
          "execution_count": 4
        }
      ]
    },
    {
      "cell_type": "code",
      "source": [
        "#sempre usar print para modificar a lista \n",
        "fam = ['Liz', 1.73, 'ema', 1.68, 'mom', 1.71, 'dad', 1.89]\n",
        "print(fam)\n",
        "fam[7] = 1.86\n",
        "print(fam)\n",
        "fam[0:2] = ['Liza, 1.74']\n",
        "print(fam)"
      ],
      "metadata": {
        "colab": {
          "base_uri": "https://localhost:8080/"
        },
        "id": "6L9u0Dre6gqI",
        "outputId": "cd8feb7e-9a09-480b-bab2-11e2fd8026c4"
      },
      "execution_count": 5,
      "outputs": [
        {
          "output_type": "stream",
          "name": "stdout",
          "text": [
            "['Liz', 1.73, 'ema', 1.68, 'mom', 1.71, 'dad', 1.89]\n",
            "['Liz', 1.73, 'ema', 1.68, 'mom', 1.71, 'dad', 1.86]\n",
            "['Liza, 1.74', 'ema', 1.68, 'mom', 1.71, 'dad', 1.86]\n"
          ]
        }
      ]
    },
    {
      "cell_type": "code",
      "source": [
        "#concateinando 'me' à lista\n",
        "fam + ['me', 1.79]"
      ],
      "metadata": {
        "colab": {
          "base_uri": "https://localhost:8080/"
        },
        "id": "Tdamo_O66dRZ",
        "outputId": "fcfc3785-a754-4203-dbe1-fe38b751462c"
      },
      "execution_count": null,
      "outputs": [
        {
          "output_type": "execute_result",
          "data": {
            "text/plain": [
              "['Liza, 1.74', 'ema', 1.68, 'mom', 1.71, 'dad', 1.86, 'me', 1.79]"
            ]
          },
          "metadata": {},
          "execution_count": 7
        }
      ]
    },
    {
      "cell_type": "code",
      "source": [
        "#excluindo da lista\n",
        "fam_ext = fam + ['me', 1.79]\n",
        "del(fam[2])\n",
        "fam"
      ],
      "metadata": {
        "colab": {
          "base_uri": "https://localhost:8080/"
        },
        "id": "Gic0-v3U6kDp",
        "outputId": "176b529e-f3db-46b2-8226-d2dce75cf157"
      },
      "execution_count": null,
      "outputs": [
        {
          "output_type": "execute_result",
          "data": {
            "text/plain": [
              "['Liza, 1.74', 'ema', 1.71, 'dad', 1.86]"
            ]
          },
          "metadata": {},
          "execution_count": 9
        }
      ]
    },
    {
      "cell_type": "code",
      "source": [
        "#manipulando à lista \"x e y apontam para o mesmo\"\n",
        "x = ['a', 'b', 'c']\n",
        "y = x\n",
        "y[1] = 'z'\n",
        "y"
      ],
      "metadata": {
        "colab": {
          "base_uri": "https://localhost:8080/"
        },
        "id": "dsCew-8L6phI",
        "outputId": "e867ebd1-e2d2-48cc-a342-11d123cfeacd"
      },
      "execution_count": null,
      "outputs": [
        {
          "output_type": "execute_result",
          "data": {
            "text/plain": [
              "['a', 'z', 'c']"
            ]
          },
          "metadata": {},
          "execution_count": 10
        }
      ]
    },
    {
      "cell_type": "code",
      "source": [
        "x"
      ],
      "metadata": {
        "colab": {
          "base_uri": "https://localhost:8080/"
        },
        "id": "wQ7P71lV6rZ_",
        "outputId": "44c46e28-641a-4fa6-cbd4-41d3673b74e1"
      },
      "execution_count": null,
      "outputs": [
        {
          "output_type": "execute_result",
          "data": {
            "text/plain": [
              "['a', 'z', 'c']"
            ]
          },
          "metadata": {},
          "execution_count": 11
        }
      ]
    },
    {
      "cell_type": "code",
      "execution_count": null,
      "metadata": {
        "colab": {
          "base_uri": "https://localhost:8080/"
        },
        "id": "Zef5N4L96LuT",
        "outputId": "6921b5ae-02a8-42d7-c542-837dcc357723"
      },
      "outputs": [
        {
          "output_type": "stream",
          "name": "stdout",
          "text": [
            "['a', 'b', 'c']\n"
          ]
        }
      ],
      "source": [
        "x = ['a', 'b', 'c']\n",
        "y = list(x)\n",
        "y = x[:]\n",
        "print(y)"
      ]
    },
    {
      "cell_type": "code",
      "source": [
        "#creat the list areas list \n",
        "areas = ['hallway', 14.25, 'kitchen', 18.0, 'living room', 20.0, 'bedroom', 10.75, 'bath room', 9.5]\n",
        "#add poolshouse data to areas, new list is araes 1 \n",
        "areas_1 = areas + ['poolhouse', 24.5]\n",
        "print(areas_1)\n",
        "#add garagem data to areas_1, new list is areas_2\n",
        "areas_1 + ['garagem', 15.5]\n",
        "areas_2 = areas_1 + ['garagem', 15.5]\n",
        "print(areas_2)"
      ],
      "metadata": {
        "id": "VaGew7QR6tvP",
        "colab": {
          "base_uri": "https://localhost:8080/"
        },
        "outputId": "f7af2d76-3e2c-45d2-8d3c-9757bcc4eedd"
      },
      "execution_count": 14,
      "outputs": [
        {
          "output_type": "stream",
          "name": "stdout",
          "text": [
            "['hallway', 14.25, 'kitchen', 18.0, 'living room', 20.0, 'bedroom', 10.75, 'bath room', 9.5, 'poolhouse', 24.5]\n",
            "['hallway', 14.25, 'kitchen', 18.0, 'living room', 20.0, 'bedroom', 10.75, 'bath room', 9.5, 'poolhouse', 24.5, 'garagem', 15.5]\n"
          ]
        }
      ]
    },
    {
      "cell_type": "code",
      "source": [
        "#creat list areas\n",
        "areas = [11.25, 18.0, 20.0, 10.75, 9.5]\n",
        "#creat areas_copy\n",
        "areas_copy = list(areas)\n",
        "#change areas_copy\n",
        "areas_copy[0] = 5.0\n",
        "#print areas \n",
        "print(areas)\n",
        "print(areas_copy)"
      ],
      "metadata": {
        "colab": {
          "base_uri": "https://localhost:8080/"
        },
        "id": "mKxnBOH1u2mH",
        "outputId": "1211057d-fde8-4552-82fa-a8da6f521ca6"
      },
      "execution_count": 15,
      "outputs": [
        {
          "output_type": "stream",
          "name": "stdout",
          "text": [
            "[11.25, 18.0, 20.0, 10.75, 9.5]\n",
            "[5.0, 18.0, 20.0, 10.75, 9.5]\n"
          ]
        }
      ]
    }
  ]
}