{
  "nbformat": 4,
  "nbformat_minor": 0,
  "metadata": {
    "colab": {
      "provenance": [],
      "authorship_tag": "ABX9TyMVoyubE6UNzBPe8T7k7WhJ",
      "include_colab_link": true
    },
    "kernelspec": {
      "name": "python3",
      "display_name": "Python 3"
    },
    "language_info": {
      "name": "python"
    }
  },
  "cells": [
    {
      "cell_type": "markdown",
      "metadata": {
        "id": "view-in-github",
        "colab_type": "text"
      },
      "source": [
        "<a href=\"https://colab.research.google.com/github/LuaraEv04/lua.ipynb/blob/main/LuaraEv_Aula06_07.ipynb\" target=\"_parent\"><img src=\"https://colab.research.google.com/assets/colab-badge.svg\" alt=\"Open In Colab\"/></a>"
      ]
    },
    {
      "cell_type": "code",
      "source": [
        "pip install numpy "
      ],
      "metadata": {
        "colab": {
          "base_uri": "https://localhost:8080/"
        },
        "id": "0pmQyJhltXWS",
        "outputId": "4d2401bd-d23a-4c3d-a703-26aad0de3d90"
      },
      "execution_count": null,
      "outputs": [
        {
          "output_type": "stream",
          "name": "stdout",
          "text": [
            "Looking in indexes: https://pypi.org/simple, https://us-python.pkg.dev/colab-wheels/public/simple/\n",
            "Requirement already satisfied: numpy in /usr/local/lib/python3.9/dist-packages (1.22.4)\n"
          ]
        }
      ]
    },
    {
      "cell_type": "code",
      "source": [
        "pip install pydicom"
      ],
      "metadata": {
        "colab": {
          "base_uri": "https://localhost:8080/"
        },
        "id": "mZJ74vvStoAi",
        "outputId": "26ffe63a-af1a-44e4-d9d8-36f144c9bde1"
      },
      "execution_count": null,
      "outputs": [
        {
          "output_type": "stream",
          "name": "stdout",
          "text": [
            "Looking in indexes: https://pypi.org/simple, https://us-python.pkg.dev/colab-wheels/public/simple/\n",
            "Collecting pydicom\n",
            "  Downloading pydicom-2.3.1-py3-none-any.whl (2.0 MB)\n",
            "\u001b[2K     \u001b[90m━━━━━━━━━━━━━━━━━━━━━━━━━━━━━━━━━━━━━━━━\u001b[0m \u001b[32m2.0/2.0 MB\u001b[0m \u001b[31m23.3 MB/s\u001b[0m eta \u001b[36m0:00:00\u001b[0m\n",
            "\u001b[?25hInstalling collected packages: pydicom\n",
            "Successfully installed pydicom-2.3.1\n"
          ]
        }
      ]
    },
    {
      "cell_type": "code",
      "source": [
        "#usar **.array para descobrir a matriz solicitada\n",
        "import numpy\n",
        "numpy.array([1, 2, 3])"
      ],
      "metadata": {
        "colab": {
          "base_uri": "https://localhost:8080/"
        },
        "id": "tWes4-tRuvay",
        "outputId": "a586c853-4314-4799-8df4-8ebf2f9ee0b1"
      },
      "execution_count": null,
      "outputs": [
        {
          "output_type": "execute_result",
          "data": {
            "text/plain": [
              "array([1, 2, 3])"
            ]
          },
          "metadata": {},
          "execution_count": 16
        }
      ]
    },
    {
      "cell_type": "code",
      "source": [
        "#import somente para abreviar a função numpy\n",
        "import numpy as np\n",
        "np.array([1, 2, 3])"
      ],
      "metadata": {
        "colab": {
          "base_uri": "https://localhost:8080/"
        },
        "id": "RurdcS3du2NS",
        "outputId": "1a27a11f-a1f3-45ba-d798-9808dbcdefed"
      },
      "execution_count": null,
      "outputs": [
        {
          "output_type": "execute_result",
          "data": {
            "text/plain": [
              "array([1, 2, 3])"
            ]
          },
          "metadata": {},
          "execution_count": 17
        }
      ]
    },
    {
      "cell_type": "code",
      "source": [
        "#from para importar sem abreviação\n",
        "from numpy import array\n",
        "array([1, 2, 3])"
      ],
      "metadata": {
        "colab": {
          "base_uri": "https://localhost:8080/"
        },
        "id": "AdrriSe_vNRJ",
        "outputId": "47d81bc9-0f3c-4766-f813-f745f2eb438a"
      },
      "execution_count": null,
      "outputs": [
        {
          "output_type": "execute_result",
          "data": {
            "text/plain": [
              "array([1, 2, 3])"
            ]
          },
          "metadata": {},
          "execution_count": 18
        }
      ]
    },
    {
      "cell_type": "code",
      "source": [
        "import numpy as np\n",
        "fam = ['Liz', 1.73, 'ema', 1.68, 'mom', 1.71, 'dad', 1.89]\n",
        "print(fam)\n",
        "print(type(fam))\n",
        "fam_ext = fam + ['me', 1.79]\n",
        "print(fam_ext)\n",
        "print(type(fam_ext))\n",
        "print(str(len(fam_ext)) + 'elements in fam_ext')\n",
        "np_fam = np.array(fam_ext)"
      ],
      "metadata": {
        "colab": {
          "base_uri": "https://localhost:8080/"
        },
        "id": "M1C6lB0Svpyy",
        "outputId": "aa472a06-5035-4097-e6cd-f4796e97b0dd"
      },
      "execution_count": null,
      "outputs": [
        {
          "output_type": "stream",
          "name": "stdout",
          "text": [
            "['Liz', 1.73, 'ema', 1.68, 'mom', 1.71, 'dad', 1.89]\n",
            "<class 'list'>\n",
            "['Liz', 1.73, 'ema', 1.68, 'mom', 1.71, 'dad', 1.89, 'me', 1.79]\n",
            "<class 'list'>\n",
            "10elements in fam_ext\n"
          ]
        }
      ]
    },
    {
      "cell_type": "code",
      "source": [
        "#Definition of radius \n",
        "r = 0.43\n",
        "#Import the math package\n",
        "import math \n",
        "#Calcule C\n",
        "C = 2* math.pi*2\n",
        "#Calcule A\n",
        "A = math.pi*r**2\n",
        "#Biuld printout\n",
        "print('Circunferência' + str(C))\n",
        "print('Área' + str(A))"
      ],
      "metadata": {
        "colab": {
          "base_uri": "https://localhost:8080/"
        },
        "id": "Qig2YtZFxRCZ",
        "outputId": "86442bf0-ccc6-4eac-a643-90a06d1fc811"
      },
      "execution_count": null,
      "outputs": [
        {
          "output_type": "stream",
          "name": "stdout",
          "text": [
            "Circunferência12.566370614359172\n",
            "Área0.5808804816487527\n"
          ]
        }
      ]
    },
    {
      "cell_type": "code",
      "source": [
        "height = [1.79, 1.65, 1.84, 1.58, 1.69]\n",
        "print(height)\n",
        "weight = [75.0, 66.4, 84.7, 62.8, 68.3]\n",
        "print(weight)"
      ],
      "metadata": {
        "colab": {
          "base_uri": "https://localhost:8080/"
        },
        "id": "TiXQXphNzzjY",
        "outputId": "6c7abad9-5586-4c3f-e132-c78993ef3930"
      },
      "execution_count": null,
      "outputs": [
        {
          "output_type": "stream",
          "name": "stdout",
          "text": [
            "[1.79, 1.65, 1.84, 1.58, 1.69]\n",
            "[75.0, 66.4, 84.7, 62.8, 68.3]\n"
          ]
        }
      ]
    },
    {
      "cell_type": "code",
      "source": [
        "import numpy as np\n",
        "np_height = np.array(height)\n",
        "print(np_height)\n",
        "np_weight = np.array(weight)\n",
        "print(np_weight)\n",
        "bmi = np_weight / np_height**2\n",
        "print(bmi)"
      ],
      "metadata": {
        "colab": {
          "base_uri": "https://localhost:8080/"
        },
        "id": "nxRGXNWi0Y5n",
        "outputId": "28714fdb-7a79-4e6c-ac69-4f9f8e7752b6"
      },
      "execution_count": null,
      "outputs": [
        {
          "output_type": "stream",
          "name": "stdout",
          "text": [
            "[1.79 1.65 1.84 1.58 1.69]\n",
            "[75.  66.4 84.7 62.8 68.3]\n",
            "[23.40750913 24.38934803 25.01772212 25.15622496 23.91372851]\n"
          ]
        }
      ]
    },
    {
      "cell_type": "code",
      "source": [
        "python_list = [1, 2, 3]\n",
        "numpy_array = np.array([1, 2, 3])\n",
        "print(python_list + python_list)\n",
        "print(numpy_array + numpy_array)"
      ],
      "metadata": {
        "colab": {
          "base_uri": "https://localhost:8080/"
        },
        "id": "CTVCHYDH2Imm",
        "outputId": "e6ac3e60-a2fb-4691-e251-749a2da9ad90"
      },
      "execution_count": null,
      "outputs": [
        {
          "output_type": "stream",
          "name": "stdout",
          "text": [
            "[1, 2, 3, 1, 2, 3]\n",
            "[2 4 6]\n"
          ]
        }
      ]
    },
    {
      "cell_type": "code",
      "source": [
        "print(bmi)\n",
        "print(bmi[1])\n",
        "print(bmi > 24)\n",
        "bmi[bmi > 24]"
      ],
      "metadata": {
        "colab": {
          "base_uri": "https://localhost:8080/"
        },
        "id": "mzIYDE9z3Bu2",
        "outputId": "0e34a217-d48b-4b58-928c-290fc9775add"
      },
      "execution_count": null,
      "outputs": [
        {
          "output_type": "stream",
          "name": "stdout",
          "text": [
            "[23.40750913 24.38934803 25.01772212 25.15622496 23.91372851]\n",
            "24.389348025711666\n",
            "[False  True  True  True False]\n"
          ]
        },
        {
          "output_type": "execute_result",
          "data": {
            "text/plain": [
              "array([24.38934803, 25.01772212, 25.15622496])"
            ]
          },
          "metadata": {},
          "execution_count": 61
        }
      ]
    },
    {
      "cell_type": "code",
      "source": [
        "np_2d = np.array([[1.73, 1.68, 1.71, 1.89, 1.79],\n",
        "                 [65.4, 59.2, 63.6, 88.4, 68.7]])\n",
        "print(np_2d)"
      ],
      "metadata": {
        "colab": {
          "base_uri": "https://localhost:8080/"
        },
        "id": "dYeLiZ-jC-Vt",
        "outputId": "e10cb36f-4b6f-4437-cb6f-f0a34ef4ea5b"
      },
      "execution_count": null,
      "outputs": [
        {
          "output_type": "stream",
          "name": "stdout",
          "text": [
            "[[ 1.73  1.68  1.71  1.89  1.79]\n",
            " [65.4  59.2  63.6  88.4  68.7 ]]\n"
          ]
        }
      ]
    },
    {
      "cell_type": "code",
      "source": [
        "np_2d.shape\n",
        "#2 linhas e 5 colunas"
      ],
      "metadata": {
        "colab": {
          "base_uri": "https://localhost:8080/"
        },
        "id": "8XUrjmS4EKQV",
        "outputId": "e68733ce-0989-41b3-a8f1-8061c44fdff5"
      },
      "execution_count": null,
      "outputs": [
        {
          "output_type": "execute_result",
          "data": {
            "text/plain": [
              "(2, 5)"
            ]
          },
          "metadata": {},
          "execution_count": 8
        }
      ]
    },
    {
      "cell_type": "code",
      "source": [
        "np.array([[1.73, 1.68, 1.71, 1.89, 1.79],\n",
        "         [65.4, 59.2, 63.6, 88.4, '68.7']])"
      ],
      "metadata": {
        "colab": {
          "base_uri": "https://localhost:8080/"
        },
        "id": "qmwQgl7QFUE0",
        "outputId": "3764a4ca-b84e-4bfa-f150-eadd5096128c"
      },
      "execution_count": null,
      "outputs": [
        {
          "output_type": "execute_result",
          "data": {
            "text/plain": [
              "array([['1.73', '1.68', '1.71', '1.89', '1.79'],\n",
              "       ['65.4', '59.2', '63.6', '88.4', '68.7']], dtype='<U32')"
            ]
          },
          "metadata": {},
          "execution_count": 9
        }
      ]
    },
    {
      "cell_type": "code",
      "source": [
        "# np de 3 linhas e 5 colunas\n",
        "np_3d = np.array([[1.73, 1.68, 1.71, 1.89, 1.79],\n",
        "                 [65.4, 59.2, 63.6, 88.4, 68.7],\n",
        "                 [18.6, 14.6, 17.8, 21.7, 34.8]])\n",
        "print(np_3d.shape)"
      ],
      "metadata": {
        "colab": {
          "base_uri": "https://localhost:8080/"
        },
        "id": "e_LnGnqkGOL8",
        "outputId": "1433219a-b22b-44d0-c748-9eaf090d154d"
      },
      "execution_count": null,
      "outputs": [
        {
          "output_type": "stream",
          "name": "stdout",
          "text": [
            "(3, 5)\n"
          ]
        }
      ]
    },
    {
      "cell_type": "code",
      "source": [
        "# np de 3 linhas e 3 colunas \n",
        "np_3xd = np.array([[1.73, 1.71, 1.79],\n",
        "                   [65.4, 63.6, 68.7],\n",
        "                   [18.6, 17.8, 34.8]])\n",
        "print(np_3xd.shape)"
      ],
      "metadata": {
        "colab": {
          "base_uri": "https://localhost:8080/"
        },
        "id": "KR3U0TYBHUuD",
        "outputId": "2d35dcb7-77ea-4c2e-daa0-82d369797412"
      },
      "execution_count": null,
      "outputs": [
        {
          "output_type": "stream",
          "name": "stdout",
          "text": [
            "(3, 3)\n"
          ]
        }
      ]
    },
    {
      "cell_type": "code",
      "source": [
        "#encontrar um número em determinada posição\n",
        "np_2d[0][2]"
      ],
      "metadata": {
        "colab": {
          "base_uri": "https://localhost:8080/"
        },
        "id": "qKXsp-H4ILAi",
        "outputId": "71d54670-6f5d-4a3f-c143-0d0b5e1b15ad"
      },
      "execution_count": null,
      "outputs": [
        {
          "output_type": "execute_result",
          "data": {
            "text/plain": [
              "1.71"
            ]
          },
          "metadata": {},
          "execution_count": 16
        }
      ]
    },
    {
      "cell_type": "code",
      "source": [
        "np_2d[0,2]"
      ],
      "metadata": {
        "colab": {
          "base_uri": "https://localhost:8080/"
        },
        "id": "6CnM6T9QIYMC",
        "outputId": "9016ddc4-922c-43e0-a72d-f5b921318ffd"
      },
      "execution_count": null,
      "outputs": [
        {
          "output_type": "execute_result",
          "data": {
            "text/plain": [
              "1.71"
            ]
          },
          "metadata": {},
          "execution_count": 17
        }
      ]
    },
    {
      "cell_type": "code",
      "source": [
        "np_2d[:,1:3]"
      ],
      "metadata": {
        "colab": {
          "base_uri": "https://localhost:8080/"
        },
        "id": "qChqKcF_I5Ai",
        "outputId": "acfb6045-c784-4cc1-ca40-ff5d30987a2b"
      },
      "execution_count": null,
      "outputs": [
        {
          "output_type": "execute_result",
          "data": {
            "text/plain": [
              "array([[ 1.68,  1.71],\n",
              "       [59.2 , 63.6 ]])"
            ]
          },
          "metadata": {},
          "execution_count": 20
        }
      ]
    },
    {
      "cell_type": "code",
      "source": [
        "np_2d[1, :]"
      ],
      "metadata": {
        "colab": {
          "base_uri": "https://localhost:8080/"
        },
        "id": "Risj3p9eJcrD",
        "outputId": "4aa766e6-26c2-4bcc-a92c-e7d64f01646b"
      },
      "execution_count": null,
      "outputs": [
        {
          "output_type": "execute_result",
          "data": {
            "text/plain": [
              "array([65.4, 59.2, 63.6, 88.4, 68.7])"
            ]
          },
          "metadata": {},
          "execution_count": 21
        }
      ]
    },
    {
      "cell_type": "code",
      "source": [
        "# creat list baseball\n",
        "baseball = [180, 215, 210, 210,\n",
        "            188, 176, 209, 200]\n",
        "# import the numpy package as np\n",
        "import numpy as np\n",
        "# creat nump array from baseball\n",
        "np_baseball = np.array(baseball)\n",
        "# print out type of baseball\n",
        "print(type(np_baseball))\n",
        "print(np_baseball.shape)"
      ],
      "metadata": {
        "colab": {
          "base_uri": "https://localhost:8080/"
        },
        "id": "mgRvUiYbJc5K",
        "outputId": "4828b6b1-8202-4406-8861-2fda7a678785"
      },
      "execution_count": null,
      "outputs": [
        {
          "output_type": "stream",
          "name": "stdout",
          "text": [
            "<class 'numpy.ndarray'>\n",
            "(8,)\n"
          ]
        }
      ]
    },
    {
      "cell_type": "code",
      "source": [
        "import random as rd\n",
        "import numpy as np \n",
        "# geração de números entre 150 e 209\n",
        "height = range(150, 210)\n",
        "print(height)\n",
        "#geração de números entre 50 e 149\n",
        "weight = range(50, 150)\n",
        "print(weight)\n",
        "#amostra randomica de 20 números de weight \n",
        "height = rd.sample(height,20)\n",
        "print(height)\n",
        "#amostra randomica de 20 números de weight\n",
        "weight = rd.sample(weight,20)\n",
        "print(weight)"
      ],
      "metadata": {
        "colab": {
          "base_uri": "https://localhost:8080/"
        },
        "id": "fRX9CGttMr1Z",
        "outputId": "6fcc6f48-b006-4489-eaf7-d5335a5d7a2d"
      },
      "execution_count": null,
      "outputs": [
        {
          "output_type": "stream",
          "name": "stdout",
          "text": [
            "range(150, 210)\n",
            "range(50, 150)\n",
            "[153, 189, 207, 163, 171, 187, 199, 201, 150, 202, 181, 182, 168, 169, 155, 204, 205, 170, 180, 178]\n",
            "[78, 83, 54, 89, 104, 50, 81, 95, 101, 108, 69, 133, 64, 96, 121, 124, 66, 126, 107, 75]\n"
          ]
        }
      ]
    },
    {
      "cell_type": "code",
      "source": [
        "#converta height em array e normalize multiplicando por 0.01\n",
        "height_array = np.array(height)*0.01\n",
        "print(height_array)\n",
        "#converta weight em array \n",
        "weight_array = np.array(weight)\n",
        "print(weight_array)\n",
        "#calcule bmi \n",
        "bmi = weight_array/height_array**2\n",
        "print(bmi)\n",
        "#verifique onde bmi é menor que 21\n",
        "light = bmi<21\n",
        "print(light)\n",
        "#exiba os valores de bmi onde bmi é maior que 21\n",
        "print(bmi[bmi<21])\n",
        "#print os elementos de weight_array do index 8 até o index 15, incluindo o 15\n",
        "print(weight_array[8:16])\n",
        "#print os elementos de height_array do index 11 até o index 19, incluindo o 19\n",
        "print(height_array[11:20])"
      ],
      "metadata": {
        "colab": {
          "base_uri": "https://localhost:8080/"
        },
        "id": "ILAdB5wpOdQn",
        "outputId": "40f39984-fce1-481f-a9fb-3fc95a6b7016"
      },
      "execution_count": null,
      "outputs": [
        {
          "output_type": "stream",
          "name": "stdout",
          "text": [
            "[1.77 1.52 1.75 1.7  2.02 2.01 1.83 1.72 1.68 1.89 1.78 1.66 1.88 1.86\n",
            " 1.96 1.92 1.53 1.69 1.84 1.91]\n",
            "[ 91  86  85 121 124 100  50  84  67 138  60 115  65  78 122 106  96 113\n",
            " 114 135]\n",
            "[29.04657027 37.22299169 27.75510204 41.86851211 30.38917753 24.75186258\n",
            " 14.93027561 28.39372634 23.73866213 38.63273705 18.9370029  41.73319785\n",
            " 18.39067451 22.54595907 31.757601   28.75434028 41.009868   39.56444102\n",
            " 33.67202268 37.00556454]\n",
            "[False False False False False False  True False False False  True False\n",
            "  True False False False False False False False]\n",
            "[14.93027561 18.9370029  18.39067451]\n",
            "[ 67 138  60 115  65  78 122 106]\n",
            "[1.66 1.88 1.86 1.96 1.92 1.53 1.69 1.84 1.91]\n"
          ]
        }
      ]
    },
    {
      "cell_type": "code",
      "source": [
        "#creat baseball, list of list \n",
        "baseball = [[180, 78.4],\n",
        "            [215, 102.7],\n",
        "            [210, 98.5],\n",
        "            [188, 75.2]]\n",
        "print(baseball)\n",
        "# import nump \n",
        "import numpy as np\n",
        "#creat np_baseball (2 cols)\n",
        "np_baseball = np.array(baseball)\n",
        "print(np_baseball)\n",
        "# print terceira linha na linha código 14\n",
        "print(np_baseball[2])\n",
        "#crie uma nova variável np_weight que receba toda a segunda coluna de np_baseball\n",
        "np_weight_lb = np_baseball[:,1]\n",
        "print(np_weight_lb)\n",
        "#print a primeira coluna da segunda linha de np_baseball\n",
        "np_weight_lb = np_baseball[1,0]\n",
        "print(np_weight_lb)"
      ],
      "metadata": {
        "colab": {
          "base_uri": "https://localhost:8080/"
        },
        "id": "awBbQYpnRoAn",
        "outputId": "4d45e293-4ae9-4187-f17e-606539890456"
      },
      "execution_count": null,
      "outputs": [
        {
          "output_type": "stream",
          "name": "stdout",
          "text": [
            "[[180, 78.4], [215, 102.7], [210, 98.5], [188, 75.2]]\n",
            "[[180.   78.4]\n",
            " [215.  102.7]\n",
            " [210.   98.5]\n",
            " [188.   75.2]]\n",
            "[210.   98.5]\n",
            "[ 78.4 102.7  98.5  75.2]\n",
            "215.0\n"
          ]
        }
      ]
    }
  ]
}