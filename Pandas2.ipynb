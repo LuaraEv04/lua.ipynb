{
  "cells": [
    {
      "cell_type": "markdown",
      "metadata": {
        "id": "view-in-github",
        "colab_type": "text"
      },
      "source": [
        "<a href=\"https://colab.research.google.com/github/LuaraEv04/lua.ipynb/blob/main/Pandas2.ipynb\" target=\"_parent\"><img src=\"https://colab.research.google.com/assets/colab-badge.svg\" alt=\"Open In Colab\"/></a>"
      ]
    },
    {
      "cell_type": "code",
      "execution_count": null,
      "metadata": {
        "id": "1nW7g_o_QZO2"
      },
      "outputs": [],
      "source": [
        "# alteração de valores\n",
        "import numpy as np\n",
        "import pandas as pd"
      ]
    },
    {
      "cell_type": "code",
      "execution_count": null,
      "metadata": {
        "colab": {
          "base_uri": "https://localhost:8080/"
        },
        "id": "RocbemlaQyVP",
        "outputId": "a509d371-9911-4ca0-df77-6c98fcaa3fc7"
      },
      "outputs": [
        {
          "data": {
            "text/plain": [
              "True"
            ]
          },
          "execution_count": 2,
          "metadata": {},
          "output_type": "execute_result"
        }
      ],
      "source": [
        "2 < 3"
      ]
    },
    {
      "cell_type": "code",
      "execution_count": null,
      "metadata": {
        "colab": {
          "base_uri": "https://localhost:8080/"
        },
        "id": "xX8MUw0_Q1on",
        "outputId": "8b6d4acf-3778-4849-badc-9c32abf68fb3"
      },
      "outputs": [
        {
          "data": {
            "text/plain": [
              "False"
            ]
          },
          "execution_count": 3,
          "metadata": {},
          "output_type": "execute_result"
        }
      ],
      "source": [
        "2 == 3"
      ]
    },
    {
      "cell_type": "code",
      "execution_count": null,
      "metadata": {
        "colab": {
          "base_uri": "https://localhost:8080/"
        },
        "id": "p8wwjwcPQ3V2",
        "outputId": "bb65f519-c2d9-4944-c788-e2b372504da5"
      },
      "outputs": [
        {
          "data": {
            "text/plain": [
              "True"
            ]
          },
          "execution_count": 5,
          "metadata": {},
          "output_type": "execute_result"
        }
      ],
      "source": [
        "2 <= 3"
      ]
    },
    {
      "cell_type": "code",
      "execution_count": null,
      "metadata": {
        "colab": {
          "base_uri": "https://localhost:8080/"
        },
        "id": "tZEboIheQ6Vm",
        "outputId": "d82459f1-5160-4196-eb59-c272592514ba"
      },
      "outputs": [
        {
          "data": {
            "text/plain": [
              "True"
            ]
          },
          "execution_count": 6,
          "metadata": {},
          "output_type": "execute_result"
        }
      ],
      "source": [
        "3 <= 3"
      ]
    },
    {
      "cell_type": "code",
      "execution_count": null,
      "metadata": {
        "colab": {
          "base_uri": "https://localhost:8080/"
        },
        "id": "AY3tf_S_Q8tW",
        "outputId": "88e94169-a3e0-4db1-8f0e-416854dccc3a"
      },
      "outputs": [
        {
          "data": {
            "text/plain": [
              "True"
            ]
          },
          "execution_count": 7,
          "metadata": {},
          "output_type": "execute_result"
        }
      ],
      "source": [
        "x = 2 \n",
        "y = 3 \n",
        "x < y"
      ]
    },
    {
      "cell_type": "code",
      "execution_count": null,
      "metadata": {
        "colab": {
          "base_uri": "https://localhost:8080/"
        },
        "id": "4-vhHAKCR-BI",
        "outputId": "b964fb9e-ba39-4d69-9905-15a2f89bbc2e"
      },
      "outputs": [
        {
          "data": {
            "text/plain": [
              "False"
            ]
          },
          "execution_count": 11,
          "metadata": {},
          "output_type": "execute_result"
        }
      ],
      "source": [
        "# Comparison of booleans \n",
        "True == False"
      ]
    },
    {
      "cell_type": "code",
      "execution_count": null,
      "metadata": {
        "colab": {
          "base_uri": "https://localhost:8080/"
        },
        "id": "gPkCBuVKRJxI",
        "outputId": "697104a1-f1c7-4563-90bd-f808e23f86e1"
      },
      "outputs": [
        {
          "data": {
            "text/plain": [
              "False"
            ]
          },
          "execution_count": 12,
          "metadata": {},
          "output_type": "execute_result"
        }
      ],
      "source": [
        "# Comparison of integers \n",
        "-5 * 15 == 75"
      ]
    },
    {
      "cell_type": "code",
      "execution_count": null,
      "metadata": {
        "colab": {
          "base_uri": "https://localhost:8080/"
        },
        "id": "I7xgQBArR3Qf",
        "outputId": "f5df79cb-682d-4313-9985-a5341f3569b3"
      },
      "outputs": [
        {
          "data": {
            "text/plain": [
              "False"
            ]
          },
          "execution_count": 15,
          "metadata": {},
          "output_type": "execute_result"
        }
      ],
      "source": [
        "# Comparison of strings \n",
        "\"pyscript\" == \"PyScript\""
      ]
    },
    {
      "cell_type": "code",
      "execution_count": null,
      "metadata": {
        "colab": {
          "base_uri": "https://localhost:8080/"
        },
        "id": "xkXetUPBSofI",
        "outputId": "808f8d15-7ac7-4c3f-867a-19e748be9ddd"
      },
      "outputs": [
        {
          "name": "stdout",
          "output_type": "stream",
          "text": [
            "True\n",
            "False\n"
          ]
        },
        {
          "data": {
            "text/plain": [
              "True"
            ]
          },
          "execution_count": 21,
          "metadata": {},
          "output_type": "execute_result"
        }
      ],
      "source": [
        "# Compare a boolean with an integer \n",
        "True == 1 \n",
        "print(True)\n",
        "False == 1\n",
        "print(False)\n",
        "False == 0 "
      ]
    },
    {
      "cell_type": "code",
      "execution_count": null,
      "metadata": {
        "colab": {
          "base_uri": "https://localhost:8080/"
        },
        "id": "YHDUvp1eTB4w",
        "outputId": "3019493d-947c-4118-e13e-5187e06e13eb"
      },
      "outputs": [
        {
          "name": "stdout",
          "output_type": "stream",
          "text": [
            "[False  True False False]\n",
            "[False  True  True False]\n"
          ]
        }
      ],
      "source": [
        "import numpy as np \n",
        "my_house = np.array([18.0, 20.0, 10.75, 9.50])\n",
        "your_house = np.array([14.0, 24.0, 14.25, 9.0])\n",
        "\n",
        "# my_house greater than of equal to 18\n",
        "print(my_house > 18)\n",
        "\n",
        "# my_house less than your_house\n",
        "print(my_house < your_house)"
      ]
    },
    {
      "cell_type": "code",
      "execution_count": null,
      "metadata": {
        "colab": {
          "base_uri": "https://localhost:8080/"
        },
        "id": "b2AeSEHWVI6P",
        "outputId": "183e7533-22f0-411c-c956-3e0e8fea0500"
      },
      "outputs": [
        {
          "data": {
            "text/plain": [
              "True"
            ]
          },
          "execution_count": 28,
          "metadata": {},
          "output_type": "execute_result"
        }
      ],
      "source": [
        "# and é atribuido para ...\n",
        "x = 12 \n",
        "x > 5 and x < 15"
      ]
    },
    {
      "cell_type": "code",
      "execution_count": null,
      "metadata": {
        "colab": {
          "base_uri": "https://localhost:8080/"
        },
        "id": "k-2puAFCUeJ_",
        "outputId": "f46a1ae1-1fbb-4de1-a84b-a4b5a0f77a02"
      },
      "outputs": [
        {
          "data": {
            "text/plain": [
              "False"
            ]
          },
          "execution_count": 27,
          "metadata": {},
          "output_type": "execute_result"
        }
      ],
      "source": [
        "x = 18 \n",
        "x > 24 and x < 13"
      ]
    },
    {
      "cell_type": "code",
      "execution_count": null,
      "metadata": {
        "colab": {
          "base_uri": "https://localhost:8080/"
        },
        "id": "gEQT75R2VzKw",
        "outputId": "221b8724-fada-4662-af56-ed155cbbce17"
      },
      "outputs": [
        {
          "data": {
            "text/plain": [
              "True"
            ]
          },
          "execution_count": 29,
          "metadata": {},
          "output_type": "execute_result"
        }
      ],
      "source": [
        "# or é atribuido para ... \n",
        "y = 5 \n",
        "y < 7 or y > 13"
      ]
    },
    {
      "cell_type": "code",
      "execution_count": null,
      "metadata": {
        "colab": {
          "base_uri": "https://localhost:8080/"
        },
        "id": "RDu-wj3EV9LI",
        "outputId": "24700886-5736-4a8c-cbab-241d9b259b85"
      },
      "outputs": [
        {
          "data": {
            "text/plain": [
              "False"
            ]
          },
          "execution_count": 31,
          "metadata": {},
          "output_type": "execute_result"
        }
      ],
      "source": [
        "y = 7\n",
        "y < 4 or y > 12"
      ]
    },
    {
      "cell_type": "code",
      "execution_count": null,
      "metadata": {
        "colab": {
          "base_uri": "https://localhost:8080/"
        },
        "id": "i0o30mt_WPN7",
        "outputId": "5eece5f5-b9b4-44fe-adb6-e0b6264111f1"
      },
      "outputs": [
        {
          "name": "stdout",
          "output_type": "stream",
          "text": [
            "False\n",
            "True\n"
          ]
        }
      ],
      "source": [
        "# não algo é o contrario daquele comando\n",
        "print(not True)\n",
        "print(not False)"
      ]
    },
    {
      "cell_type": "code",
      "execution_count": null,
      "metadata": {
        "id": "w_L8HEUyWYQA"
      },
      "outputs": [],
      "source": [
        "# logical_and ()\n",
        "#logical_or()\n",
        "#logical_not()"
      ]
    },
    {
      "cell_type": "code",
      "execution_count": null,
      "metadata": {
        "colab": {
          "base_uri": "https://localhost:8080/"
        },
        "id": "NlVULi5RW-GJ",
        "outputId": "fb76c606-19ec-4b5d-8699-4ae528f53643"
      },
      "outputs": [
        {
          "name": "stdout",
          "output_type": "stream",
          "text": [
            "False\n",
            "False\n",
            "True\n"
          ]
        }
      ],
      "source": [
        "my_kitchen = 18.0 \n",
        "your_kitchen = 14.0\n",
        "\n",
        "# my_kitchen bigger than 10 and smaller than 18 ?\n",
        "print(my_kitchen > 10 and my_kitchen < 18)\n",
        "\n",
        "# my_kitchen smaller than 14 or bigger than 17?\n",
        "print(my_kitchen < 14 and my_kitchen < 17)\n",
        "\n",
        "# double my_kitchen smaller than triple your_kitchen\n",
        "print(my_kitchen *2 < your_kitchen **3)"
      ]
    },
    {
      "cell_type": "code",
      "execution_count": null,
      "metadata": {
        "colab": {
          "base_uri": "https://localhost:8080/"
        },
        "id": "AVuL-1HCYmTX",
        "outputId": "d9461435-657f-4699-f797-87366d5b58a1"
      },
      "outputs": [
        {
          "name": "stdout",
          "output_type": "stream",
          "text": [
            "[ True  True  True  True]\n"
          ]
        }
      ],
      "source": [
        "import numpy as np\n",
        "my_house = np.array([18.0, 20.0, 10.75, 9.50])\n",
        "your_house = np.array([14.0, 24.0, 14.25, 9.0])\n",
        "\n",
        "# my_house greater than 18 or smaller than 10\n",
        "print(np.logical_or(my_house > 10, my_house < 18.5))"
      ]
    },
    {
      "cell_type": "code",
      "execution_count": null,
      "metadata": {
        "colab": {
          "base_uri": "https://localhost:8080/"
        },
        "id": "xabVCKZ3Yzrg",
        "outputId": "4b48c2fd-cf6c-4fce-c890-b2ab21458285"
      },
      "outputs": [
        {
          "name": "stdout",
          "output_type": "stream",
          "text": [
            "[False False False  True]\n"
          ]
        }
      ],
      "source": [
        "# both my_house and your_house smaller than 11\n",
        "print(np.logical_and(my_house < 11, your_house < 11))"
      ]
    },
    {
      "cell_type": "code",
      "execution_count": null,
      "metadata": {
        "colab": {
          "base_uri": "https://localhost:8080/"
        },
        "id": "ezHRIDDPcqAF",
        "outputId": "be34e87b-7726-4f67-884f-cedb64ac4ff5"
      },
      "outputs": [
        {
          "name": "stdout",
          "output_type": "stream",
          "text": [
            "z is even\n"
          ]
        }
      ],
      "source": [
        "# quando z for número par \n",
        "z = 4 \n",
        "if z % 2 == 0 : \n",
        "  print(\"z is even\")"
      ]
    },
    {
      "cell_type": "code",
      "execution_count": null,
      "metadata": {
        "colab": {
          "base_uri": "https://localhost:8080/"
        },
        "id": "Nf192abZdEd5",
        "outputId": "16878c6e-fcee-47f1-e108-c0ee0b85b6fe"
      },
      "outputs": [
        {
          "name": "stdout",
          "output_type": "stream",
          "text": [
            "z is odd\n"
          ]
        }
      ],
      "source": [
        "# quando z for númerp ímpar\n",
        "z = 5 \n",
        "if z % 2 == 0 : \n",
        "  print(\"z is even\")\n",
        "else : \n",
        "  print(\"z is odd\")"
      ]
    },
    {
      "cell_type": "code",
      "execution_count": null,
      "metadata": {
        "colab": {
          "base_uri": "https://localhost:8080/"
        },
        "id": "4q0g-7tPdmnc",
        "outputId": "b19790b9-5449-488d-b2ba-3c8489363925"
      },
      "outputs": [
        {
          "name": "stdout",
          "output_type": "stream",
          "text": [
            "z is divisible by 3\n"
          ]
        }
      ],
      "source": [
        "z = 3 \n",
        "if z % 2 == 0 : \n",
        "  print(\"z is divisible by 2\") #false\n",
        "elif z % 3 == 0 :\n",
        "  print(\"z is divisible by 3\") #true\n",
        "else : \n",
        "  print(\"z is neither divisible by 2 nor by 3\") #false"
      ]
    },
    {
      "cell_type": "code",
      "execution_count": null,
      "metadata": {
        "colab": {
          "background_save": true,
          "base_uri": "https://localhost:8080/"
        },
        "id": "IQvP7ceTeYOl",
        "outputId": "5ee5b621-e31e-45f4-bce7-dcc52ddf7399"
      },
      "outputs": [
        {
          "name": "stdout",
          "output_type": "stream",
          "text": [
            "z is neither divisible by 2 nor by 3\n"
          ]
        }
      ],
      "source": [
        "z = 11\n",
        "if z % 2 == 0 : \n",
        "  print(\"z is divisible by 2\") #false\n",
        "elif z % 3 == 0 :\n",
        "  print(\"z is divisible by 3\") # false\n",
        "else : \n",
        "  print(\"z is neither divisible by 2 nor by 3\") # true "
      ]
    },
    {
      "cell_type": "code",
      "execution_count": null,
      "metadata": {
        "colab": {
          "background_save": true
        },
        "id": "n0gFp8JHetdJ",
        "outputId": "db0ca125-76d3-4675-f924-440180251f31"
      },
      "outputs": [
        {
          "name": "stdout",
          "output_type": "stream",
          "text": [
            "looking around in the kitchen\n",
            "pretty small\n"
          ]
        }
      ],
      "source": [
        "# define variables \n",
        "room = \"kit\"\n",
        "area = 14.0 \n",
        "\n",
        "# if statement for room \n",
        "if room == \"kit\" : \n",
        "  print(\"looking around in the kitchen\") #true \n",
        "\n",
        "# if statement for area \n",
        "if area > 15 :\n",
        "  print(\"Big PLace\") #false\n",
        "else : \n",
        "  print(\"pretty small\") #true "
      ]
    }
  ],
  "metadata": {
    "colab": {
      "provenance": [],
      "authorship_tag": "ABX9TyNsBNvkkBIYh3vNfyZT3W2H",
      "include_colab_link": true
    },
    "kernelspec": {
      "display_name": "Python 3",
      "name": "python3"
    },
    "language_info": {
      "name": "python"
    }
  },
  "nbformat": 4,
  "nbformat_minor": 0
}