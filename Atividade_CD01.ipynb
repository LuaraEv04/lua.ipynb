{
 "cells": [
  {
   "cell_type": "code",
   "execution_count": 119,
   "metadata": {},
   "outputs": [
    {
     "name": "stdout",
     "output_type": "stream",
     "text": [
      "7.333333333333333\n"
     ]
    },
    {
     "data": {
      "text/plain": [
       "float"
      ]
     },
     "execution_count": 119,
     "metadata": {},
     "output_type": "execute_result"
    }
   ],
   "source": [
    "#Código de variáveis / 01\n",
    "aluno = 'Alex'\n",
    "nota1 = 8.0\n",
    "nota2 = 6.5\n",
    "nota3 = 7.5\n",
    "média = (8.0 + 6.5 + 7.5)/3.0\n",
    "#exibição variável média\n",
    "print(média)\n",
    "#exibição do tipo de variável aluno\n",
    "type(aluno)\n",
    "#exibição do tipo de variável média\n",
    "type(média)"
   ]
  },
  {
   "cell_type": "code",
   "execution_count": 120,
   "metadata": {},
   "outputs": [
    {
     "name": "stdout",
     "output_type": "stream",
     "text": [
      "Alex\n",
      "7.333333333333333\n"
     ]
    }
   ],
   "source": [
    "print(aluno)\n",
    "print(média)"
   ]
  },
  {
   "cell_type": "code",
   "execution_count": 121,
   "metadata": {},
   "outputs": [
    {
     "name": "stdout",
     "output_type": "stream",
     "text": [
      "LuaraRodrigues\n"
     ]
    }
   ],
   "source": [
    "#concatenção de strings / 02\n",
    "nome = 'Luara'\n",
    "sobrenome = 'Rodrigues'\n",
    "nome_completo = 'Luara' + 'Rodrigues'\n",
    "print(nome_completo)"
   ]
  },
  {
   "cell_type": "code",
   "execution_count": 122,
   "metadata": {},
   "outputs": [
    {
     "name": "stdout",
     "output_type": "stream",
     "text": [
      "['coxinha', 'tapioca', 'sorvete', 'hambúrguer', 'açaí', 'milkshake', 'salada', 'suco', 'maracujá', 'maça']\n"
     ]
    },
    {
     "data": {
      "text/plain": [
       "list"
      ]
     },
     "execution_count": 122,
     "metadata": {},
     "output_type": "execute_result"
    }
   ],
   "source": [
    "#Lista de alimentos / 03\n",
    "comidas = ['coxinha', 'tapioca', 'sorvete', 'hambúrguer', 'açaí', 'milkshake', 'salada', 'suco', 'maracujá', 'maça']\n",
    "print(comidas)\n",
    "type(comidas)"
   ]
  },
  {
   "cell_type": "code",
   "execution_count": 123,
   "metadata": {},
   "outputs": [
    {
     "name": "stdout",
     "output_type": "stream",
     "text": [
      "coxinha\n"
     ]
    }
   ],
   "source": [
    "# a)\n",
    "print(comidas[-10])"
   ]
  },
  {
   "cell_type": "code",
   "execution_count": 124,
   "metadata": {},
   "outputs": [
    {
     "name": "stdout",
     "output_type": "stream",
     "text": [
      "['hambúrguer']\n"
     ]
    }
   ],
   "source": [
    "# b)\n",
    "print(comidas[3:4])"
   ]
  },
  {
   "cell_type": "code",
   "execution_count": 125,
   "metadata": {},
   "outputs": [
    {
     "name": "stdout",
     "output_type": "stream",
     "text": [
      "['coxinha', 'tapioca', 'sorvete', 'hambúrguer']\n"
     ]
    }
   ],
   "source": [
    "# c)\n",
    "print(comidas[0:4])"
   ]
  },
  {
   "cell_type": "code",
   "execution_count": 126,
   "metadata": {},
   "outputs": [
    {
     "name": "stdout",
     "output_type": "stream",
     "text": [
      "['suco', 'maracujá', 'maça']\n"
     ]
    }
   ],
   "source": [
    "# d)\n",
    "print(comidas[7:10])"
   ]
  },
  {
   "cell_type": "code",
   "execution_count": 127,
   "metadata": {},
   "outputs": [
    {
     "name": "stdout",
     "output_type": "stream",
     "text": [
      "['sorvete', 'hambúrguer', 'açaí', 'milkshake']\n"
     ]
    }
   ],
   "source": [
    "# e)\n",
    "print(comidas[2:6])"
   ]
  },
  {
   "cell_type": "code",
   "execution_count": 128,
   "metadata": {},
   "outputs": [
    {
     "name": "stdout",
     "output_type": "stream",
     "text": [
      "['coxinha', 3.5, 'tapioca', 3.0, 'sorvete', 1.5, 'hambúrguer', 12.0, 'açaí', 10.0, 'milkshake', 8.0, 'salada', 3.5, 'suco', 2.0, 'maracujá', 0.4, 'maça', 0.8]\n"
     ]
    },
    {
     "data": {
      "text/plain": [
       "list"
      ]
     },
     "execution_count": 128,
     "metadata": {},
     "output_type": "execute_result"
    }
   ],
   "source": [
    "#Incluindo preço aos alimentos / 04\n",
    "comidas1 = ['coxinha', 3.50, 'tapioca', 3.0, 'sorvete', 1.50, 'hambúrguer', 12.0, 'açaí', 10.0, 'milkshake', 8.0, 'salada', 3.50, 'suco', 2.0, 'maracujá', 0.40, 'maça', 0.80]\n",
    "print(comidas1)\n",
    "type(comidas1)"
   ]
  },
  {
   "cell_type": "code",
   "execution_count": 129,
   "metadata": {},
   "outputs": [
    {
     "data": {
      "text/plain": [
       "44.699999999999996"
      ]
     },
     "execution_count": 129,
     "metadata": {},
     "output_type": "execute_result"
    }
   ],
   "source": [
    "# a)\n",
    "gasto_total = (3.50 + 3.0 + 1.5 + 12.0 + 10.0 + 8.0 + 3.5 + 2.0 + 0.40 + 0.80)\n",
    "gasto_total"
   ]
  },
  {
   "cell_type": "code",
   "execution_count": 130,
   "metadata": {},
   "outputs": [
    {
     "name": "stdout",
     "output_type": "stream",
     "text": [
      "44.699999999999996\n"
     ]
    }
   ],
   "source": [
    "# b)\n",
    "print(gasto_total)"
   ]
  },
  {
   "cell_type": "code",
   "execution_count": 131,
   "metadata": {},
   "outputs": [
    {
     "name": "stdout",
     "output_type": "stream",
     "text": [
      "['hambúrguer', 12.0, 'açaí', 10.0, 'milkshake', 8.0]\n"
     ]
    }
   ],
   "source": [
    "# c) alimentos mais caros\n",
    "alimentos_mais_caros = comidas1[6:12]\n",
    "# d)\n",
    "print(alimentos_mais_caros)"
   ]
  },
  {
   "cell_type": "code",
   "execution_count": 132,
   "metadata": {},
   "outputs": [],
   "source": [
    "# a) Adaptanto a lista de alimentos\n",
    "lista_de_alimentos = [['coxinha', 3.50], ['tapioca', 3.0], \n",
    "    ['sorvete', 1.50], ['hambúrguer', 12.0], ['açaí', 10.0], \n",
    "    ['milkshake', 8.0], ['salada', 3.50], ['suco', 2.0], ['maracujá', 0.40], ['maça', 0.80]]"
   ]
  },
  {
   "cell_type": "code",
   "execution_count": 133,
   "metadata": {},
   "outputs": [
    {
     "name": "stdout",
     "output_type": "stream",
     "text": [
      "[['coxinha', 3.5], ['tapioca', 3.0], ['sorvete', 1.5], ['hambúrguer', 12.0], ['açaí', 10.0], ['milkshake', 8.0], ['salada', 3.5], ['suco', 2.0], ['maracujá', 0.4], ['maça', 0.8]]\n"
     ]
    }
   ],
   "source": [
    "# b)\n",
    "print(lista_de_alimentos)"
   ]
  },
  {
   "cell_type": "code",
   "execution_count": 134,
   "metadata": {},
   "outputs": [
    {
     "name": "stdout",
     "output_type": "stream",
     "text": [
      "[['sorvete', 1.5], ['hambúrguer', 12.0]]\n"
     ]
    }
   ],
   "source": [
    "# c)\n",
    "print(lista_de_alimentos[2:4])"
   ]
  },
  {
   "cell_type": "code",
   "execution_count": 135,
   "metadata": {},
   "outputs": [
    {
     "name": "stdout",
     "output_type": "stream",
     "text": [
      "1.5\n",
      "hambúrguer\n",
      "10.0\n",
      "coxinha\n"
     ]
    }
   ],
   "source": [
    "# d1)\n",
    "print(comidas1[5])\n",
    "# d2)\n",
    "print(comidas1[6])\n",
    "# d3)\n",
    "print(comidas1[9])\n",
    "# d4)\n",
    "print(comidas1[0])"
   ]
  }
 ],
 "metadata": {
  "kernelspec": {
   "display_name": "Python 3",
   "language": "python",
   "name": "python3"
  },
  "language_info": {
   "codemirror_mode": {
    "name": "ipython",
    "version": 3
   },
   "file_extension": ".py",
   "mimetype": "text/x-python",
   "name": "python",
   "nbconvert_exporter": "python",
   "pygments_lexer": "ipython3",
   "version": "3.11.2"
  },
  "orig_nbformat": 4
 },
 "nbformat": 4,
 "nbformat_minor": 2
}
