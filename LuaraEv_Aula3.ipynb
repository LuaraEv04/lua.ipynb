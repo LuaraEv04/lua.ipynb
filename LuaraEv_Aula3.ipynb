{
  "nbformat": 4,
  "nbformat_minor": 0,
  "metadata": {
    "colab": {
      "provenance": [],
      "authorship_tag": "ABX9TyOj4d2vp1sGPOLzCy9tcj0/",
      "include_colab_link": true
    },
    "kernelspec": {
      "name": "python3",
      "display_name": "Python 3"
    },
    "language_info": {
      "name": "python"
    }
  },
  "cells": [
    {
      "cell_type": "markdown",
      "metadata": {
        "id": "view-in-github",
        "colab_type": "text"
      },
      "source": [
        "<a href=\"https://colab.research.google.com/github/LuaraEv04/lua.ipynb/blob/main/LuaraEv_Aula3.ipynb\" target=\"_parent\"><img src=\"https://colab.research.google.com/assets/colab-badge.svg\" alt=\"Open In Colab\"/></a>"
      ]
    },
    {
      "cell_type": "code",
      "execution_count": null,
      "metadata": {
        "id": "2dIw1qZX8-LE"
      },
      "outputs": [],
      "source": [
        "fam= [1.73, 1.68, 1.71, 1.89]\n",
        "fam"
      ]
    },
    {
      "cell_type": "code",
      "source": [
        "fam1= [['Liz = 1.73'],['Nara = 1.68'],['Luara = 1.71'],['Axl = 1.89']]\n",
        "fam1"
      ],
      "metadata": {
        "colab": {
          "base_uri": "https://localhost:8080/"
        },
        "id": "7xnxJU3l9_9v",
        "outputId": "e48523bb-734f-4411-ea91-301420b6f2b3"
      },
      "execution_count": null,
      "outputs": [
        {
          "output_type": "execute_result",
          "data": {
            "text/plain": [
              "[['Liz = 1.73'], ['Nara = 1.68'], ['Luara = 1.71'], ['Axl = 1.89']]"
            ]
          },
          "metadata": {},
          "execution_count": 10
        }
      ]
    },
    {
      "cell_type": "code",
      "source": [
        "fam2= [['Liz = 1.73'],\n",
        "       ['Nara = 1.68'],\n",
        "       ['Luara = 1.71'],\n",
        "       ['Axl = 1.89']]\n",
        "fam2"
      ],
      "metadata": {
        "colab": {
          "base_uri": "https://localhost:8080/"
        },
        "id": "u_0giDr39Rza",
        "outputId": "194204df-6eda-4631-db98-6a59366ac177"
      },
      "execution_count": null,
      "outputs": [
        {
          "output_type": "execute_result",
          "data": {
            "text/plain": [
              "[['Liz = 1.73'], ['Nara = 1.68'], ['Luara = 1.71'], ['Axl = 1.89']]"
            ]
          },
          "metadata": {},
          "execution_count": 8
        }
      ]
    },
    {
      "cell_type": "code",
      "source": [
        "type(fam1)"
      ],
      "metadata": {
        "colab": {
          "base_uri": "https://localhost:8080/"
        },
        "id": "WYz7P5Nq_ENY",
        "outputId": "6af2ca47-24cc-41a9-8960-f9059d576c9c"
      },
      "execution_count": null,
      "outputs": [
        {
          "output_type": "execute_result",
          "data": {
            "text/plain": [
              "list"
            ]
          },
          "metadata": {},
          "execution_count": 11
        }
      ]
    },
    {
      "cell_type": "code",
      "source": [
        "type(fam2)"
      ],
      "metadata": {
        "colab": {
          "base_uri": "https://localhost:8080/"
        },
        "id": "Edl6wnpR_Ofw",
        "outputId": "cb97516f-58cd-41a4-ea18-701d5a143e90"
      },
      "execution_count": null,
      "outputs": [
        {
          "output_type": "execute_result",
          "data": {
            "text/plain": [
              "list"
            ]
          },
          "metadata": {},
          "execution_count": 12
        }
      ]
    },
    {
      "cell_type": "code",
      "source": [
        "#area variables (in square meters)\n",
        "hall = 14.25\n",
        "kit = 18.0\n",
        "liv = 20.0\n",
        "bad = 10.75\n",
        "bath = 9.50\n",
        "#creat list areas\n",
        "areas = [hall, kit, liv, bad, bath]\n",
        "#print areas\n",
        "print(areas)"
      ],
      "metadata": {
        "colab": {
          "base_uri": "https://localhost:8080/"
        },
        "id": "TZg94_jlASxi",
        "outputId": "1f3f6e38-13ed-44be-b95b-30991aeeccf6"
      },
      "execution_count": null,
      "outputs": [
        {
          "output_type": "stream",
          "name": "stdout",
          "text": [
            "[14.25, 18.0, 20.0, 10.75, 9.5]\n"
          ]
        }
      ]
    },
    {
      "cell_type": "code",
      "source": [
        "areas = ['hallway', hall, 'kitchen', kit, 'living room', liv, 'bad room', bad, 'bath room', bath]\n",
        "print(areas)"
      ],
      "metadata": {
        "colab": {
          "base_uri": "https://localhost:8080/"
        },
        "id": "_1e0fGazCPiJ",
        "outputId": "30e66986-1bea-43b1-9a0a-0d341d5d6b91"
      },
      "execution_count": null,
      "outputs": [
        {
          "output_type": "stream",
          "name": "stdout",
          "text": [
            "['hallway', 14.25, 'kitchen', 18.0, 'living room', 20.0, 'bad room', 10.75, 'bath room', 9.5]\n"
          ]
        }
      ]
    },
    {
      "cell_type": "code",
      "source": [
        "#uma lista de quatro números int\n",
        "[1, 2, 3, 4]\n",
        "#duas lista dentro de uma lista com três números inteiros cada\n",
        "[[1, 2, 3], [4, 5, 6]]\n",
        "#lista de dois cálculos e três elementos\n",
        "[1 + 2, \"a\" * 5,3]"
      ],
      "metadata": {
        "id": "93AjWQE6ED0H",
        "outputId": "fdb5ac7b-21a2-43e6-e9b4-34eb775e3abd",
        "colab": {
          "base_uri": "https://localhost:8080/"
        }
      },
      "execution_count": null,
      "outputs": [
        {
          "output_type": "execute_result",
          "data": {
            "text/plain": [
              "[3, 'aaaaa', 3]"
            ]
          },
          "metadata": {},
          "execution_count": 1
        }
      ]
    },
    {
      "cell_type": "code",
      "source": [
        "#house information as list of list\n",
        "house = [['hallway', hall,],\n",
        "['kitchen', kit],\n",
        "['living room', liv],\n",
        "['bad room', bad],\n",
        "['bath room', bath]]\n",
        "print(house)\n",
        "print(type(house))\n"
      ],
      "metadata": {
        "colab": {
          "base_uri": "https://localhost:8080/"
        },
        "id": "OBMeU9I7FWMw",
        "outputId": "f8a5de37-b94a-4bff-d4c2-03d75717f06f"
      },
      "execution_count": null,
      "outputs": [
        {
          "output_type": "stream",
          "name": "stdout",
          "text": [
            "[['hallway', 14.25], ['kitchen', 18.0], ['living room', 20.0], ['bad room', 10.75], ['bath room', 9.5]]\n",
            "<class 'list'>\n"
          ]
        }
      ]
    },
    {
      "cell_type": "code",
      "source": [
        "fam1= ['Liz', 1.73, 'Nara', 1.68, 'Luara', 1.71, 'Axl', 1.89]\n",
        "fam1"
      ],
      "metadata": {
        "colab": {
          "base_uri": "https://localhost:8080/"
        },
        "id": "xWNBtLzjHUpG",
        "outputId": "8a317ffb-2491-425d-f6af-bf8b095d06ef"
      },
      "execution_count": null,
      "outputs": [
        {
          "output_type": "execute_result",
          "data": {
            "text/plain": [
              "['Liz', 1.73, 'Nara', 1.68, 'Luara', 1.71, 'Axl', 1.89]"
            ]
          },
          "metadata": {},
          "execution_count": 41
        }
      ]
    },
    {
      "cell_type": "code",
      "source": [
        "#elementos vão começar do 0 e não do 1\n",
        "print(fam1[3])\n",
        "print(fam1[6])\n",
        "print(fam1[-1])\n",
        "print(fam1[7])"
      ],
      "metadata": {
        "colab": {
          "base_uri": "https://localhost:8080/"
        },
        "id": "0683d5hqHZg2",
        "outputId": "13167935-933a-45da-eff5-d8f2674c24c2"
      },
      "execution_count": null,
      "outputs": [
        {
          "output_type": "stream",
          "name": "stdout",
          "text": [
            "1.68\n",
            "Axl\n",
            "1.89\n",
            "1.89\n"
          ]
        }
      ]
    },
    {
      "cell_type": "code",
      "source": [
        "#pegando um pedaço da lista\n",
        "print(fam1)\n",
        "print(fam1[3:5])\n",
        "print(fam1[-1:7]) #será vazio sempre que o número foi negativo\n",
        "print(fam1[0:4])\n",
        "print(fam1[6:])"
      ],
      "metadata": {
        "colab": {
          "base_uri": "https://localhost:8080/"
        },
        "id": "HwWh-IMTIcu-",
        "outputId": "3c6a421a-16e8-4926-b42f-3636f266b1b2"
      },
      "execution_count": null,
      "outputs": [
        {
          "output_type": "stream",
          "name": "stdout",
          "text": [
            "['Liz', 1.73, 'Nara', 1.68, 'Luara', 1.71, 'Axl', 1.89]\n",
            "[1.68, 'Luara']\n",
            "[]\n",
            "['Liz', 1.73, 'Nara', 1.68]\n",
            "['Axl', 1.89]\n"
          ]
        }
      ]
    },
    {
      "cell_type": "code",
      "source": [
        "#creat the areas list \n",
        "areas = ['hallway', 11.25, 'kitchen', 18.0, 'living room', 20.0, 'bad room', 10.75, 'bath room', 9.50]\n",
        "#print of the areas\n",
        "print(areas[1])\n",
        "print(areas[-1])\n",
        "print(areas[5])"
      ],
      "metadata": {
        "colab": {
          "base_uri": "https://localhost:8080/"
        },
        "id": "JousgyGsKmRu",
        "outputId": "47a8b27e-ac6a-4d17-f0a4-72dc0c95806a"
      },
      "execution_count": null,
      "outputs": [
        {
          "output_type": "stream",
          "name": "stdout",
          "text": [
            "11.25\n",
            "9.5\n",
            "20.0\n"
          ]
        }
      ]
    }
  ]
}